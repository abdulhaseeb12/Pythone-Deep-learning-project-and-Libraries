{
 "cells": [
  {
   "cell_type": "code",
   "execution_count": 4,
   "metadata": {},
   "outputs": [
    {
     "name": "stdout",
     "output_type": "stream",
     "text": [
      "Max sale of the day :  65000\n",
      "Date when there was max sale :  23/8/2019\n",
      "Min sale of the day :  50000\n",
      "Date of min sale :  20/8/2019\n",
      "Average daily sale 57500.0\n",
      "Variation between max/min sale:  15000\n"
     ]
    }
   ],
   "source": [
    "#Analysis of a store/shop Daily Sales\n",
    "#Coding : Abdul Haseeb\n",
    "t = [['20/8/2019', 50000],['21/8/2019',55000],['22/8/2019',60000],['23/8/2019',65000]]\n",
    "t_max = (max(t, key=lambda x: x[1]))\n",
    "t_min = (min(t, key=lambda x: x[1]))\n",
    "print(\"Max sale of the day : \",t_max[1])\n",
    "print(\"Date when there was max sale : \",t_max[0])\n",
    "print(\"Min sale of the day : \",t_min[1])\n",
    "print(\"Date of min sale : \",t_min[0])\n",
    "print(\"Average daily sale\",sum([n[1] for n in t ])/len(t))\n",
    "print(\"Variation between max/min sale: \",t_max[1] - t_min[1])"
   ]
  },
  {
   "cell_type": "code",
   "execution_count": null,
   "metadata": {},
   "outputs": [],
   "source": []
  }
 ],
 "metadata": {
  "kernelspec": {
   "display_name": "Python 3",
   "language": "python",
   "name": "python3"
  },
  "language_info": {
   "codemirror_mode": {
    "name": "ipython",
    "version": 3
   },
   "file_extension": ".py",
   "mimetype": "text/x-python",
   "name": "python",
   "nbconvert_exporter": "python",
   "pygments_lexer": "ipython3",
   "version": "3.7.3"
  }
 },
 "nbformat": 4,
 "nbformat_minor": 2
}
